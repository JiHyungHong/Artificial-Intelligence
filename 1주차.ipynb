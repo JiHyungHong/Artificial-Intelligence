{
  "nbformat": 4,
  "nbformat_minor": 0,
  "metadata": {
    "colab": {
      "name": "1주차.ipynb",
      "provenance": [],
      "authorship_tag": "ABX9TyOVgs9/P6pomaoT7BPoNOra",
      "include_colab_link": true
    },
    "kernelspec": {
      "name": "python3",
      "display_name": "Python 3"
    }
  },
  "cells": [
    {
      "cell_type": "markdown",
      "metadata": {
        "id": "view-in-github",
        "colab_type": "text"
      },
      "source": [
        "<a href=\"https://colab.research.google.com/github/JiHyungHong/Artificial-Intelligence/blob/master/1%EC%A3%BC%EC%B0%A8.ipynb\" target=\"_parent\"><img src=\"https://colab.research.google.com/assets/colab-badge.svg\" alt=\"Open In Colab\"/></a>"
      ]
    },
    {
      "cell_type": "markdown",
      "metadata": {
        "id": "DkdKPcjCaVvW",
        "colab_type": "text"
      },
      "source": [
        "# 1주차 과제\n",
        "언어, 음성, 이미지, 자율주행 4가지 제품 및 서비스 분석해보기\n",
        "1. 언어\n",
        "  - 딥러닝 기반 형태소 분석기 '카이'\n",
        "    - 딥러닝을 통해 학습한 데이터를 활용해 형태소를 분석하는 모델\n",
        "    - 딥러닝 기술 중 하나인 콘볼루션 신경망(CNN, Convolutional Neural Network)을 이용해 음절기반으로 형태소를 분석하는 방법\n",
        "2. 음성\n",
        "  - AI스피커 (누구, 카카오미니, 웨이브)\n",
        "    - 길 찾기아 영어 일본어 중국어 사전\n",
        "    - 음성으로 카카오톡 메시지 전송\n",
        "    - 뉴스 읽어주기\n",
        "  - 뉘앙스 (Nuance)\n",
        "    - 음성으로 가정 내 스마트홈 디바이스를 조작할 수 있는 자동차 인포테인먼트의 개발\n",
        "    - 운전자뿐만 아니라 차내의 모든 사람이 사용할 수 있도록 더욱 향상시켰으며, 동승자에 대한 음성 대화 및 인지 기능과 자동차와 주택 간의 상호 운용성도 확장돼 음성으로 가정 내 스마트홈 디바이스를 조작할 수 있는 개발환경을 제공\n",
        "3. 이미지\n",
        "  - 보안 검색대\n",
        "    - 보다 정확하게 촬영 이미지를 분석하여 반·출입 불허 물품을 자동으로 검색\n",
        "  - 무인 스토어\n",
        "    - 무인 스토어의 셀프 계산대. 여기에도 AI 이미지 분석 시스템이 적용\n",
        "    - 구매자가 고른 제품을 계산대에 올리면 상품들을 자동으로 인식하여 계산하는 것까지 가능\n",
        "  - 구글 포토\n",
        "    - 사용자가 사진별로 태깅(tagging·특정 사진이나 게시물이 어떤 정보를 담고 있는지 사용자가 표시하는 것) 등으로 정보를 입력하지 않아도 특정 인물별로 사진을 정리해주거나 ‘생일’, ‘음식’, ‘수영’ 등 일반적인 단어로 검색하면 이에 맞는 사진을 찾는다. 쌓여있는 사진들 속에서 특정 시점이 기억나지 않더라도 필요한 사진을 찾아낼 수 있다\n",
        "4. 자율주행\n",
        "  - 앱티브의 자율주행 로보택시 서비스\n",
        "    - 구조\n",
        "      - 10개의 레이다 센서와 9개의 라이다 센서에 트리포칼 카메라, 신호등 인식용 카메라 1개씩을 더해 총 21개의 센서가 장착되어 있다\n",
        "      - GPS 안테나 2개, 커뮤니케이션 안테나 1개, 전용 소프트웨어를 장착한 컴퓨터 2개를 장착하여 자율주행 시스템을 구현\n",
        "    - 방식 \n",
        "      - 설정한 경로에 따라 차선 변경이 필요하면 방향지시등과 함께 차선 변경을 하고, 신호등에 적색등이 켜졌을 때는 앞 차량이 없어도 스스로 정지선에 맞추어 정차한다. 앱티브 자율주행 차량에도 카메라의 색상과 위치를 판단하는 센서가 있지만 라스베이거스 도시는 이미 특별한 신호기를 장착하여 신호등의 상태를 전송하고 있어 이를 받아 현재 도로의 신호를 판단한다."
      ]
    },
    {
      "cell_type": "code",
      "metadata": {
        "id": "HqMct0qRlT_r",
        "colab_type": "code",
        "colab": {}
      },
      "source": [
        ""
      ],
      "execution_count": 0,
      "outputs": []
    }
  ]
}